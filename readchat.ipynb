{
 "cells": [
  {
   "cell_type": "code",
   "execution_count": 79,
   "metadata": {},
   "outputs": [],
   "source": [
    "import pandas as pd\n",
    "import re\n",
    "from collections import Counter\n",
    "import nltk\n",
    "from nltk.corpus import stopwords\n",
    "\n",
    "stop_words = set(stopwords.words('english')) \n",
    "\n",
    "def parse_file(text_file):    \n",
    "    pat = re.compile(r'^(\\d\\d\\/\\d\\d\\/\\d\\d.*?)(?=^^\\d\\d\\/\\d\\d\\/\\d\\d|\\Z)', re.S | re.M)\n",
    "    with open(text_file,encoding='utf8') as f:\n",
    "        data = [m.group(1).strip().replace('\\n', ' ') for m in pat.finditer(f.read())]\n",
    "    sender = []; message = []; datetime = []\n",
    "    for row in data:\n",
    "        datetime.append(row.split(' - ')[0])\n",
    "        try:\n",
    "            s = re.search('m - (.*?):', row).group(1)\n",
    "            sender.append(s)\n",
    "        except:\n",
    "            sender.append('')\n",
    "        try:\n",
    "            message.append(row.split(': ', 1)[1])\n",
    "        except:\n",
    "            message.append('')\n",
    "    df = pd.DataFrame(zip(datetime, sender, message), columns=['timestamp', 'sender', 'message'])\n",
    "    df['timestamp'] = pd.to_datetime(df.timestamp, format='%d/%m/%y, %I:%M %p')\n",
    "    df = df[df.sender != ''].reset_index(drop=True)    \n",
    "    return df\n",
    "\n",
    "def dftostring(df):\n",
    "    messages = ' '.join(df.values)\n",
    "    messages = messages.lower()\n",
    "    messages = messages.strip()\n",
    "    messages = messages.replace('<media omitted>','<media_omitted>')\n",
    "    return(messages)\n",
    "    \n",
    "def getwordscount(messages,top=None):\n",
    "    finalCount = Counter()\n",
    "    words = [w for w in messages.split(\" \") if w not in stop_words]\n",
    "    finalCount.update(words)  # update final count using the words list\n",
    "    if top:\n",
    "        return finalCount.most_common(top)\n",
    "    else:\n",
    "        return finalCount "
   ]
  },
  {
   "cell_type": "code",
   "execution_count": 80,
   "metadata": {},
   "outputs": [
    {
     "data": {
      "text/html": [
       "<div>\n",
       "<style scoped>\n",
       "    .dataframe tbody tr th:only-of-type {\n",
       "        vertical-align: middle;\n",
       "    }\n",
       "\n",
       "    .dataframe tbody tr th {\n",
       "        vertical-align: top;\n",
       "    }\n",
       "\n",
       "    .dataframe thead th {\n",
       "        text-align: right;\n",
       "    }\n",
       "</style>\n",
       "<table border=\"1\" class=\"dataframe\">\n",
       "  <thead>\n",
       "    <tr style=\"text-align: right;\">\n",
       "      <th></th>\n",
       "      <th>timestamp</th>\n",
       "      <th>sender</th>\n",
       "      <th>message</th>\n",
       "    </tr>\n",
       "  </thead>\n",
       "  <tbody>\n",
       "    <tr>\n",
       "      <td>0</td>\n",
       "      <td>2018-11-15 20:32:00</td>\n",
       "      <td>Kanak Dahake Jr.</td>\n",
       "      <td>&lt;Media omitted&gt;</td>\n",
       "    </tr>\n",
       "    <tr>\n",
       "      <td>1</td>\n",
       "      <td>2018-11-15 20:47:00</td>\n",
       "      <td>P1</td>\n",
       "      <td>😆😆😆</td>\n",
       "    </tr>\n",
       "    <tr>\n",
       "      <td>2</td>\n",
       "      <td>2018-11-15 20:47:00</td>\n",
       "      <td>P1</td>\n",
       "      <td>kama nimitya</td>\n",
       "    </tr>\n",
       "    <tr>\n",
       "      <td>3</td>\n",
       "      <td>2018-11-15 20:47:00</td>\n",
       "      <td>P1</td>\n",
       "      <td>aaji kde</td>\n",
       "    </tr>\n",
       "    <tr>\n",
       "      <td>4</td>\n",
       "      <td>2018-11-15 20:50:00</td>\n",
       "      <td>Kanak Dahake Jr.</td>\n",
       "      <td>Sala 😂😂</td>\n",
       "    </tr>\n",
       "  </tbody>\n",
       "</table>\n",
       "</div>"
      ],
      "text/plain": [
       "            timestamp            sender          message\n",
       "0 2018-11-15 20:32:00  Kanak Dahake Jr.  <Media omitted>\n",
       "1 2018-11-15 20:47:00                P1              😆😆😆\n",
       "2 2018-11-15 20:47:00                P1     kama nimitya\n",
       "3 2018-11-15 20:47:00                P1         aaji kde\n",
       "4 2018-11-15 20:50:00  Kanak Dahake Jr.          Sala 😂😂"
      ]
     },
     "execution_count": 80,
     "metadata": {},
     "output_type": "execute_result"
    }
   ],
   "source": [
    "df = parse_file('chat.txt')\n",
    "df.head()"
   ]
  },
  {
   "cell_type": "code",
   "execution_count": 81,
   "metadata": {},
   "outputs": [],
   "source": [
    "def generate_analysis(name,df_s):\n",
    "    print(f'Message send by {name} is {df_s.shape[0]}')\n",
    "    allmessages_text = dftostring(df['message'])\n",
    "    print('Top 50 words:',getwordscount(allmessages_text,50))\n",
    "    print('')"
   ]
  },
  {
   "cell_type": "code",
   "execution_count": 82,
   "metadata": {},
   "outputs": [
    {
     "name": "stdout",
     "output_type": "stream",
     "text": [
      "Message send by All is 1935\n",
      "Top 50 words: [('<media_omitted>', 233), ('h', 168), ('hai', 146), ('', 124), ('ky', 89), ('nhi', 77), ('ka', 73), ('ha', 70), ('bhi', 63), ('ko', 55), ('mai', 54), ('main', 49), ('nai', 46), ('tu', 42), ('fir', 42), ('kya', 40), ('ek', 39), ('raha', 38), ('kuch', 37), ('hu', 36), ('na', 36), ('kr', 33), ('p', 33), ('tha', 33), ('hi', 33), ('ke', 32), ('-', 32), ('ho', 31), ('abe', 31), ('n', 31), ('kar', 29), ('k', 29), ('acha', 28), ('wo', 27), ('toh', 26), ('yeh', 26), ('bol', 25), ('voh', 25), ('pe', 24), ('se', 24), ('atharv', 24), ('hua', 23), ('sahi', 22), ('koi', 22), ('app', 21), ('kam', 20), ('😂', 20), ('aur', 20), ('ab', 20), ('😅', 20)]\n",
      "\n",
      "Message send by Kanak Dahake Jr. is 825\n",
      "Top 50 words: [('<media_omitted>', 233), ('h', 168), ('hai', 146), ('', 124), ('ky', 89), ('nhi', 77), ('ka', 73), ('ha', 70), ('bhi', 63), ('ko', 55), ('mai', 54), ('main', 49), ('nai', 46), ('tu', 42), ('fir', 42), ('kya', 40), ('ek', 39), ('raha', 38), ('kuch', 37), ('hu', 36), ('na', 36), ('kr', 33), ('p', 33), ('tha', 33), ('hi', 33), ('ke', 32), ('-', 32), ('ho', 31), ('abe', 31), ('n', 31), ('kar', 29), ('k', 29), ('acha', 28), ('wo', 27), ('toh', 26), ('yeh', 26), ('bol', 25), ('voh', 25), ('pe', 24), ('se', 24), ('atharv', 24), ('hua', 23), ('sahi', 22), ('koi', 22), ('app', 21), ('kam', 20), ('😂', 20), ('aur', 20), ('ab', 20), ('😅', 20)]\n",
      "\n",
      "Message send by P1 is 1110\n",
      "Top 50 words: [('<media_omitted>', 233), ('h', 168), ('hai', 146), ('', 124), ('ky', 89), ('nhi', 77), ('ka', 73), ('ha', 70), ('bhi', 63), ('ko', 55), ('mai', 54), ('main', 49), ('nai', 46), ('tu', 42), ('fir', 42), ('kya', 40), ('ek', 39), ('raha', 38), ('kuch', 37), ('hu', 36), ('na', 36), ('kr', 33), ('p', 33), ('tha', 33), ('hi', 33), ('ke', 32), ('-', 32), ('ho', 31), ('abe', 31), ('n', 31), ('kar', 29), ('k', 29), ('acha', 28), ('wo', 27), ('toh', 26), ('yeh', 26), ('bol', 25), ('voh', 25), ('pe', 24), ('se', 24), ('atharv', 24), ('hua', 23), ('sahi', 22), ('koi', 22), ('app', 21), ('kam', 20), ('😂', 20), ('aur', 20), ('ab', 20), ('😅', 20)]\n",
      "\n"
     ]
    }
   ],
   "source": [
    "sender = list(df.sender.unique())\n",
    "generate_analysis('All',df)\n",
    "for s in sender:\n",
    "    generate_analysis(s,df[df.sender==s])"
   ]
  }
 ],
 "metadata": {
  "kernelspec": {
   "display_name": "Python 3",
   "language": "python",
   "name": "python3"
  },
  "language_info": {
   "codemirror_mode": {
    "name": "ipython",
    "version": 3
   },
   "file_extension": ".py",
   "mimetype": "text/x-python",
   "name": "python",
   "nbconvert_exporter": "python",
   "pygments_lexer": "ipython3",
   "version": "3.7.4"
  }
 },
 "nbformat": 4,
 "nbformat_minor": 2
}
